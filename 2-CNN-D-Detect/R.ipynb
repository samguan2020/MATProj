{
 "cells": [
  {
   "cell_type": "markdown",
   "id": "dfb59500",
   "metadata": {},
   "source": [
    "# Real-Time Sleepiness Detection System\n",
    "#### prepared by : Jay patel\n",
    "***"
   ]
  },
  {
   "cell_type": "markdown",
   "id": "e2e7a85a",
   "metadata": {},
   "source": [
    "## why it is Important ?\n",
    " <font size = '3'>The development of a real-time sleepiness detection system is important because drowsy driving is a significant problem that causes numerous accidents and fatalities on the road. According to the National Highway Traffic Safety Administration (NHTSA), drowsy driving is a factor in up to 7,000 fatalities and tens of thousands of injuries each year in the United States alone. In addition to causing accidents, drowsy driving can also result in decreased reaction time, impaired decision-making, and decreased ability to focus, all of which can lead to poor driving performance and increased risk of accidents.\n",
    "\n",
    "<font size = '3'> A real-time sleepiness detection system can help prevent these accidents by alerting drivers when they are at risk of falling asleep at the wheel. By using sensors and algorithms to analyze driver behavior and vital signs, such as eye movement, head position, heart rate, and respiration, the system can detect the early signs of sleepiness and alert the driver before they become too drowsy to safely operate the vehicle. This can help prevent accidents and save lives."
   ]
  },
  {
   "cell_type": "markdown",
   "id": "d5694452",
   "metadata": {},
   "source": [
    "# Data collection\n",
    "---\n",
    "For real-time sleepiness detection system, I collect data from the Eye Dataset provided by the Visual Recognition Group at the VSB-Technical University of Ostrava. This dataset includes images of subjects performing various tasks while their eye movements and facial expressions are recorded. The Images are annotated with labels indicating the level of drowsiness exhibited by the subjects, allowing to train deep learning model to recognize the signs of sleepiness.\n",
    "\n",
    "Link of dataset : http://mrl.cs.vsb.cz/eyedataset"
   ]
  },
  {
   "cell_type": "markdown",
   "id": "841127b2",
   "metadata": {},
   "source": [
    "In the dataset, annotated the following properties (the properties are indicated in the following order):\n",
    "1. subject ID; in the dataset, we collected the data of 37 different persons (33 men and 4 women)\n",
    "2. image ID; the dataset consists of 84,898 images\n",
    "3. gender [0 - man, 1 - woman]; the dataset contains the information about gender for each image (man, woman)\n",
    "4. glasses [0 - no, 1 - yes]; the information if the eye image contains glasses is also provided for each image (with and without the glasses)\n",
    "5. eye state [0 - closed, 1 - open]; this property contains the information about two eye states (open, close)\n",
    "6. reflections [0 - none, 1 - small, 2 - big]; we annotated three reflection states based on the size of reflections (none, small, and big reflections)\n",
    "7. lighting conditions [0 - bad, 1 - good]; each image has two states (bad, good) based on the amount of light during capturing the videos\n"
   ]
  },
  {
   "cell_type": "markdown",
   "id": "fa5c9bdb",
   "metadata": {},
   "source": [
    "example:\n",
    "s001_00123_0_0_0_0_0_01.png\n",
    "\n",
    "subject ID:\n",
    "xxx\n",
    "\n",
    "image number:\n",
    "xxx\n",
    "\n",
    "gender:\n",
    "0 - male\n",
    "1 - famale\n",
    "\n",
    "glasses:\n",
    "0 - no\n",
    "1 - yes\n",
    "\n",
    "eye state:\n",
    "0 - close\n",
    "1 - open\n",
    "\n",
    "reflections:\n",
    "0 - none\n",
    "1 - low\n",
    "2 - high\n",
    "\n",
    "lighting conditions/image quality:\n",
    "0 - bad\n",
    "1 - good\n",
    "\n",
    "\n",
    "\n"
   ]
  },
  {
   "cell_type": "markdown",
   "id": "40690f71",
   "metadata": {},
   "source": [
    "# Import all the necessary dependencies and Libraries "
   ]
  },
  {
   "cell_type": "code",
   "execution_count": 6,
   "id": "1a74f4b6",
   "metadata": {},
   "outputs": [],
   "source": [
    "import os\n",
    "import glob\n",
    "import shutil\n",
    "import random\n",
    "from tqdm import tqdm\n",
    "import pandas as pd\n",
    "import numpy as np\n",
    "import matplotlib.pyplot as plt\n",
    "\n",
    "import tensorflow as tf\n",
    "from tensorflow.keras.applications import InceptionV3\n",
    "from tensorflow.keras.models import Model\n",
    "from tensorflow.keras.layers import Dropout,Input,Flatten,Dense,MaxPooling2D\n",
    "from tensorflow.keras.preprocessing.image import ImageDataGenerator  "
   ]
  },
  {
   "cell_type": "markdown",
   "id": "5f02aaa0",
   "metadata": {},
   "source": [
    "# separating data based on whether the eye is open or closed"
   ]
  },
  {
   "cell_type": "raw",
   "id": "32765eaf",
   "metadata": {
    "vscode": {
     "languageId": "raw"
    }
   },
   "source": [
    "# Define the paths\n",
    "dataset_path = 'C:\\\\r\\\\unsorted'  # Change this to the path of your MRLEyes folder\n",
    "closed_folder = os.path.join('C:\\\\r\\\\data', 'closed')\n",
    "open_folder = os.path.join('C:\\\\r\\\\data', 'open')\n",
    "\n",
    "# Create directories if they don't exist\n",
    "os.makedirs(closed_folder, exist_ok=True)\n",
    "os.makedirs(open_folder, exist_ok=True)"
   ]
  },
  {
   "cell_type": "raw",
   "id": "76cda36d",
   "metadata": {},
   "source": [
    "raw_data = 'C:\\\\Users\\\\xingu\\\\Downloads\\\\mrlEyes_2018_01\\\\mrlEyes_2018_01'\n",
    "for dirpath, dirname, filename in os.walk(raw_data):\n",
    "    for file in tqdm([f for f in filename if f.endswith('.png')]):\n",
    "        if file.split('_')[4] == '0':\n",
    "            path= 'C:\\\\r\\\\dds\\\\closed'\n",
    "            if not os.path.exists(path):\n",
    "                os.makedirs(path)\n",
    "            shutil.copy(src=dirpath + '\\\\' + file, dst= path)\n",
    "        elif file.split('_')[4] == '1':\n",
    "            path= 'C:\\\\r\\\\dds\\\\open'\n",
    "            if not os.path.exists(path):\n",
    "                os.makedirs(path)\n",
    "            shutil.copy(src=dirpath + '\\\\' + file, dst= path)"
   ]
  },
  {
   "cell_type": "raw",
   "id": "659c8a39",
   "metadata": {},
   "source": [
    "for dirpath, dirname, filename in os.walk(raw_data):\n",
    "    for file in tqdm([f for f in filename if f.endswith('.png')]):\n",
    "        if file.split('_')[4] == '0':\n",
    "            path= 'C:\\\\r\\\\dds\\\\closed'\n",
    "            if not os.path.exists(path):\n",
    "                os.makedirs(path)\n",
    "            shutil.copy(src=dirpath + '\\\\' + file, dst= path)\n",
    "        elif file.split('_')[4] == '1':\n",
    "            path= 'C:\\\\r\\\\dds\\\\open'\n",
    "            if not os.path.exists(path):\n",
    "                os.makedirs(path)\n",
    "            shutil.copy(src=dirpath + '\\\\' + file, dst= path)"
   ]
  },
  {
   "cell_type": "markdown",
   "id": "3148f0b0",
   "metadata": {},
   "source": [
    "# divide dataset into train and split dataset"
   ]
  },
  {
   "cell_type": "code",
   "execution_count": null,
   "id": "aafaecaf",
   "metadata": {},
   "outputs": [],
   "source": [
    "source = r'C:/r/dds/open'\n",
    "destination = r'C:/r/dds/test/open'\n",
    "percent = 0.2\n",
    "\n",
    "path, dirs, files_open = next(os.walk(source))\n",
    "file_count_open = len(files_open)\n",
    "percentage = file_count_open * percent\n",
    "to_move = random.sample(glob.glob(source + \"/*.png\"), int(percentage))\n",
    "\n",
    "for f in enumerate(to_move):\n",
    "    if not os.path.exists(destination):\n",
    "        os.makedirs(destination)\n",
    "    shutil.move(f[1], destination)\n",
    "print(f'moved {int(percentage)})\n",
    "    "
   ]
  },
  {
   "cell_type": "code",
   "execution_count": null,
   "id": "48554cf4",
   "metadata": {},
   "outputs": [],
   "source": [
    "source = r'C:/r/dds/closed'\n",
    "destination = r'C:/r/dds/test/closed'\n",
    "percent = 0.2\n",
    "\n",
    "path, dirs, files_open = next(os.walk(source))\n",
    "file_count_open = len(files_open)\n",
    "percentage = file_count_open * percent\n",
    "to_move = random.sample(glob.glob(source + \"/*.png\"), int(percentage))\n",
    "\n",
    "for f in enumerate(to_move):\n",
    "    if not os.path.exists(destination):\n",
    "        os.makedirs(destination)\n",
    "    shutil.move(f[1], destination)\n",
    "print(f'moved {int(percentage)})\n",
    "    "
   ]
  },
  {
   "cell_type": "code",
   "execution_count": 9,
   "id": "26ebb1c7",
   "metadata": {},
   "outputs": [
    {
     "ename": "NameError",
     "evalue": "name 'cv2' is not defined",
     "output_type": "error",
     "traceback": [
      "\u001b[1;31m---------------------------------------------------------------------------\u001b[0m",
      "\u001b[1;31mNameError\u001b[0m                                 Traceback (most recent call last)",
      "Cell \u001b[1;32mIn[9], line 1\u001b[0m\n\u001b[1;32m----> 1\u001b[0m img_ \u001b[38;5;241m=\u001b[39m \u001b[43mcv2\u001b[49m\u001b[38;5;241m.\u001b[39mimread(\u001b[38;5;124m'\u001b[39m\u001b[38;5;124mC:\u001b[39m\u001b[38;5;130;01m\\\\\u001b[39;00m\u001b[38;5;124mr\u001b[39m\u001b[38;5;130;01m\\\\\u001b[39;00m\u001b[38;5;124mdata\u001b[39m\u001b[38;5;130;01m\\\\\u001b[39;00m\u001b[38;5;124mopen\u001b[39m\u001b[38;5;130;01m\\\\\u001b[39;00m\u001b[38;5;124ms0001_01882_0_0_1_0_0_01.png\u001b[39m\u001b[38;5;124m'\u001b[39m,cv2\u001b[38;5;241m.\u001b[39mIMREAD_GRAYSCALE)\n",
      "\u001b[1;31mNameError\u001b[0m: name 'cv2' is not defined"
     ]
    }
   ],
   "source": [
    "img_ = cv2.imread('C:\\\\r\\\\data\\\\open\\\\s0001_01882_0_0_1_0_0_01.png',cv2.IMREAD_GRAYSCALE)"
   ]
  },
  {
   "cell_type": "code",
   "execution_count": null,
   "id": "2b051a7f",
   "metadata": {},
   "outputs": [],
   "source": [
    "plt.imshow(img_,cmap='gray')"
   ]
  },
  {
   "cell_type": "code",
   "execution_count": null,
   "id": "48892b87",
   "metadata": {},
   "outputs": [],
   "source": [
    "img_.shape"
   ]
  },
  {
   "cell_type": "code",
   "execution_count": null,
   "id": "6b74a873",
   "metadata": {},
   "outputs": [],
   "source": [
    "train_datagen= ImageDataGenerator(rescale=1/255, rotation_range=0.2,shear_range=0.2,\n",
    "    zoom_range=0.2,width_shift_range=0.2,\n",
    "    height_shift_range=0.2, validation_split=0.2)\n",
    "\n",
    "train_data= train_datagen.flow_from_directory(r'C:\\r\\dds\\train',\n",
    "                                target_size=(80,80),batch_size=8,class_mode='categorical',subset='training' )\n",
    "\n",
    "validation_data= train_datagen.flow_from_directory(r'C:\\r\\dds\\train',\n",
    "                                target_size=(80,80),batch_size=8,class_mode='categorical', subset='validation')"
   ]
  },
  {
   "cell_type": "markdown",
   "id": "2da616a9",
   "metadata": {},
   "source": [
    "# applying normalization to all dataset"
   ]
  },
  {
   "cell_type": "code",
   "execution_count": null,
   "id": "3370545e",
   "metadata": {},
   "outputs": [],
   "source": [
    "test_datagen = ImageDataGenerator(rescale=1./255)"
   ]
  },
  {
   "cell_type": "code",
   "execution_count": null,
   "id": "dd4e78fb",
   "metadata": {},
   "outputs": [],
   "source": [
    "test_data = test_datagen.flow_from_directory(r'C:\\r\\dds\\test',\n",
    "                                target_size=(80,80),batch_size=8,class_mode='categorical')"
   ]
  },
  {
   "cell_type": "markdown",
   "id": "f607ae0f",
   "metadata": {},
   "source": [
    "# Importing pre-trained model for training"
   ]
  },
  {
   "attachments": {
    "tl.webp": {
     "image/webp": "[encoded data removed]"
    }
   },
   "cell_type": "markdown",
   "id": "e17d3c83",
   "metadata": {},
   "source": [
    "![tl.webp](attachment:tl.webp)"
   ]
  },
  {
   "cell_type": "code",
   "execution_count": null,
   "id": "27b62bfb",
   "metadata": {},
   "outputs": [],
   "source": [
    "bmodel = InceptionV3(include_top=False, weights='imagenet', input_tensor=Input(shape=(80,80,3)))\n",
    "hmodel = bmodel.output\n",
    "hmodel = Flatten()(hmodel)\n",
    "hmodel = Dense(64, activation='relu')(hmodel)\n",
    "hmodel = Dropout(0.5)(hmodel)\n",
    "hmodel = Dense(2,activation= 'softmax')(hmodel)\n",
    "\n",
    "model = Model(inputs=bmodel.input, outputs= hmodel)\n",
    "for layer in bmodel.layers:\n",
    "    layer.trainable = False"
   ]
  },
  {
   "cell_type": "code",
   "execution_count": null,
   "id": "31cc0550",
   "metadata": {},
   "outputs": [],
   "source": [
    "bmodel.summary()"
   ]
  },
  {
   "cell_type": "code",
   "execution_count": null,
   "id": "b74e7dd1",
   "metadata": {},
   "outputs": [],
   "source": [
    "model.summary()"
   ]
  },
  {
   "cell_type": "code",
   "execution_count": null,
   "id": "a7868268",
   "metadata": {},
   "outputs": [],
   "source": [
    "from tensorflow.keras.callbacks import ModelCheckpoint,EarlyStopping, ReduceLROnPlateau"
   ]
  },
  {
   "cell_type": "code",
   "execution_count": null,
   "id": "797f99a6",
   "metadata": {},
   "outputs": [],
   "source": [
    "checkpoint = ModelCheckpoint(r'C:\\r\\dds\\models\\model1',\n",
    "                            monitor='val_loss',save_best_only=True,verbose=3)\n",
    "\n",
    "earlystop = EarlyStopping(monitor = 'val_loss', patience=5, verbose= 3, restore_best_weights=True)\n",
    "\n",
    "learning_rate = ReduceLROnPlateau(monitor= 'val_loss', patience=3, verbose= 3)\n",
    "\n",
    "callbacks=[checkpoint,earlystop,learning_rate]"
   ]
  },
  {
   "cell_type": "code",
   "execution_count": null,
   "id": "226f5127",
   "metadata": {},
   "outputs": [],
   "source": [
    "model.compile(optimizer='Adam', loss='categorical_crossentropy',metrics=['accuracy'])\n",
    "\n",
    "model.fit_generator(train_data,steps_per_epoch=train_data.samples//32,\n",
    "                   validation_data=validation_data,\n",
    "                   validation_steps=validation_data.samples//32,\n",
    "                   callbacks=callbacks,\n",
    "                    epochs=5)"
   ]
  },
  {
   "cell_type": "markdown",
   "id": "63ade841",
   "metadata": {},
   "source": [
    "# accuracy "
   ]
  },
  {
   "cell_type": "code",
   "execution_count": null,
   "id": "a9c3b388",
   "metadata": {},
   "outputs": [],
   "source": [
    "acc_tr, loss_tr = model.evaluate_generator(train_data)\n",
    "print(acc_tr)\n",
    "print(loss_tr)"
   ]
  },
  {
   "cell_type": "code",
   "execution_count": null,
   "id": "10716ebf",
   "metadata": {},
   "outputs": [],
   "source": [
    "acc_vr, loss_vr = model.evaluate_generator(validation_data)\n",
    "print(acc_vr)\n",
    "print(loss_vr)"
   ]
  },
  {
   "cell_type": "code",
   "execution_count": null,
   "id": "96ed4c5a",
   "metadata": {},
   "outputs": [],
   "source": [
    "acc_test, loss_test = model.evaluate_generator(test_data)\n",
    "print(acc_tr)\n",
    "print(loss_tr)"
   ]
  },
  {
   "cell_type": "code",
   "execution_count": null,
   "id": "8ba9b130",
   "metadata": {},
   "outputs": [],
   "source": [
    "import cv2\n",
    "from tensorflow.keras.models import load_model\n",
    "import numpy as np\n",
    "from pygame import mixer"
   ]
  },
  {
   "cell_type": "markdown",
   "id": "b5bda4ed",
   "metadata": {},
   "source": [
    "# capturing real-time video and detecting the eye-movement and trigger the alarm if eyes are continuesly closed more than 15 seconds"
   ]
  },
  {
   "cell_type": "code",
   "execution_count": null,
   "id": "bbe01f1f",
   "metadata": {},
   "outputs": [],
   "source": [
    "face_cascade = cv2.CascadeClassifier(cv2.data.haarcascades + 'haarcascade_frontalface_default.xml')\n",
    "eye_cascade = cv2.CascadeClassifier(cv2.data.haarcascades + 'haarcascade_eye.xml')\n",
    "model = load_model(r'C:\\Users\\Jay\\Desktop\\dds\\models\\model1')"
   ]
  },
  {
   "cell_type": "code",
   "execution_count": null,
   "id": "c27b5bad",
   "metadata": {},
   "outputs": [],
   "source": [
    "mixer.init()\n",
    "sound= mixer.Sound(r'C:\\Users\\Jay\\Desktop\\hjbjh\\dds\\alarm.wav')\n",
    "cap = cv2.VideoCapture(0)\n",
    "Score = 0\n",
    "while True:\n",
    "    ret, frame = cap.read()\n",
    "    height,width = frame.shape[0:2]\n",
    "    gray = cv2.cvtColor(frame, cv2.COLOR_BGR2GRAY)\n",
    "    faces= face_cascade.detectMultiScale(gray, scaleFactor= 1.2, minNeighbors=3)\n",
    "    eyes= eye_cascade.detectMultiScale(gray, scaleFactor= 1.1, minNeighbors=3)\n",
    "    \n",
    "    cv2.rectangle(frame, (0,height-50),(200,height),(0,0,0),thickness=cv2.FILLED)\n",
    "    \n",
    "    for (x,y,w,h) in faces:\n",
    "        cv2.rectangle(frame,pt1=(x,y),pt2=(x+w,y+h), color= (255,0,0), thickness=3 )\n",
    "        \n",
    "    for (ex,ey,ew,eh) in eyes:\n",
    "        #cv2.rectangle(frame,pt1=(ex,ey),pt2=(ex+ew,ey+eh), color= (255,0,0), thickness=3 )\n",
    "        \n",
    "        \n",
    "        eye= frame[ey:ey+eh,ex:ex+ew]\n",
    "        eye= cv2.resize(eye,(80,80))\n",
    "        eye= eye/255\n",
    "        eye= eye.reshape(80,80,3)\n",
    "        eye= np.expand_dims(eye,axis=0)\n",
    "        \n",
    "        prediction = model.predict(eye)\n",
    "        if prediction[0][0]>0.30: \n",
    "            cv2.putText(frame,'closed',(10,height-20),fontFace=cv2.FONT_HERSHEY_COMPLEX_SMALL,fontScale=1,color=(255,255,255),\n",
    "                       thickness=1,lineType=cv2.LINE_AA)\n",
    "            cv2.putText(frame,'Score'+str(Score),(100,height-20),fontFace=cv2.FONT_HERSHEY_COMPLEX_SMALL,fontScale=1,color=(255,255,255),\n",
    "                       thickness=1,lineType=cv2.LINE_AA)\n",
    "            Score=Score+1\n",
    "            if(Score>15):\n",
    "                try:\n",
    "                    sound.play()\n",
    "                except:\n",
    "                    pass\n",
    "            \n",
    "       \n",
    "        elif prediction[0][1]>0.90:\n",
    "            cv2.putText(frame,'open',(10,height-20),fontFace=cv2.FONT_HERSHEY_COMPLEX_SMALL,fontScale=1,color=(255,255,255),\n",
    "                       thickness=1,lineType=cv2.LINE_AA)      \n",
    "            cv2.putText(frame,'Score'+str(Score),(100,height-20),fontFace=cv2.FONT_HERSHEY_COMPLEX_SMALL,fontScale=1,color=(255,255,255),\n",
    "                       thickness=1,lineType=cv2.LINE_AA)\n",
    "            Score = Score-1\n",
    "            if (Score<0):\n",
    "                Score=0\n",
    "            \n",
    "        \n",
    "    cv2.imshow('frame',frame)\n",
    "    if cv2.waitKey(40) & 0xFF==ord('q'):\n",
    "        break\n",
    "        \n",
    "cap.release()\n",
    "cv2.destroyAllWindows()\n"
   ]
  },
  {
   "cell_type": "code",
   "execution_count": null,
   "id": "a66e436f",
   "metadata": {},
   "outputs": [],
   "source": []
  },
  {
   "cell_type": "code",
   "execution_count": null,
   "id": "93adb7cf",
   "metadata": {},
   "outputs": [],
   "source": []
  },
  {
   "cell_type": "code",
   "execution_count": null,
   "id": "3f3bc4e8",
   "metadata": {},
   "outputs": [],
   "source": []
  }
 ],
 "metadata": {
  "kernelspec": {
   "display_name": "Python 3 (ipykernel)",
   "language": "python",
   "name": "python3"
  },
  "language_info": {
   "codemirror_mode": {
    "name": "ipython",
    "version": 3
   },
   "file_extension": ".py",
   "mimetype": "text/x-python",
   "name": "python",
   "nbconvert_exporter": "python",
   "pygments_lexer": "ipython3",
   "version": "3.8.0"
  }
 },
 "nbformat": 4,
 "nbformat_minor": 5
}
